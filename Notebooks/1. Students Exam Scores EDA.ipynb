{
 "cells": [
  {
   "cell_type": "markdown",
   "id": "3b3871ab",
   "metadata": {},
   "source": [
    "# 1. Problem Statement\n",
    "\n",
    "This project understands how the student's performance is affect by other variables such as gender, ethnicity, parent education level, lunch etc."
   ]
  },
  {
   "cell_type": "markdown",
   "id": "ae660ef7",
   "metadata": {},
   "source": [
    "# 2. Data Collection\n",
    "\n",
    "Data source : https://www.kaggle.com/datasets/desalegngeb/students-exam-scores\n",
    "\n"
   ]
  },
  {
   "cell_type": "markdown",
   "id": "fc089aba",
   "metadata": {},
   "source": [
    "## 2.1 Import Data and Packages "
   ]
  },
  {
   "cell_type": "code",
   "execution_count": 28,
   "id": "6113dc42",
   "metadata": {},
   "outputs": [],
   "source": [
    "#import numpy, pandas, matplotlib, seaborn and warnings library\n",
    "import numpy as np\n",
    "import pandas as pd\n",
    "import matplotlib.pyplot as plt\n",
    "import seaborn as sns\n",
    "from sklearn.impute import KNNImputer, SimpleImputer\n",
    "\n",
    "import warnings\n",
    "warnings.filterwarnings(action = 'ignore')"
   ]
  },
  {
   "cell_type": "code",
   "execution_count": 54,
   "id": "6cbb3c4c",
   "metadata": {},
   "outputs": [],
   "source": [
    "#Read datast as pandas dataframe\n",
    "df = pd.read_csv('../Data/Data.csv')"
   ]
  },
  {
   "cell_type": "code",
   "execution_count": 55,
   "id": "04b3aee1",
   "metadata": {
    "scrolled": true
   },
   "outputs": [
    {
     "data": {
      "text/html": [
       "<div>\n",
       "<style scoped>\n",
       "    .dataframe tbody tr th:only-of-type {\n",
       "        vertical-align: middle;\n",
       "    }\n",
       "\n",
       "    .dataframe tbody tr th {\n",
       "        vertical-align: top;\n",
       "    }\n",
       "\n",
       "    .dataframe thead th {\n",
       "        text-align: right;\n",
       "    }\n",
       "</style>\n",
       "<table border=\"1\" class=\"dataframe\">\n",
       "  <thead>\n",
       "    <tr style=\"text-align: right;\">\n",
       "      <th></th>\n",
       "      <th>Unnamed: 0</th>\n",
       "      <th>Gender</th>\n",
       "      <th>EthnicGroup</th>\n",
       "      <th>ParentEduc</th>\n",
       "      <th>LunchType</th>\n",
       "      <th>TestPrep</th>\n",
       "      <th>ParentMaritalStatus</th>\n",
       "      <th>PracticeSport</th>\n",
       "      <th>IsFirstChild</th>\n",
       "      <th>NrSiblings</th>\n",
       "      <th>TransportMeans</th>\n",
       "      <th>WklyStudyHours</th>\n",
       "      <th>MathScore</th>\n",
       "      <th>ReadingScore</th>\n",
       "      <th>WritingScore</th>\n",
       "    </tr>\n",
       "  </thead>\n",
       "  <tbody>\n",
       "    <tr>\n",
       "      <th>0</th>\n",
       "      <td>0</td>\n",
       "      <td>female</td>\n",
       "      <td>NaN</td>\n",
       "      <td>bachelor's degree</td>\n",
       "      <td>standard</td>\n",
       "      <td>none</td>\n",
       "      <td>married</td>\n",
       "      <td>regularly</td>\n",
       "      <td>yes</td>\n",
       "      <td>3.0</td>\n",
       "      <td>school_bus</td>\n",
       "      <td>&lt; 5</td>\n",
       "      <td>71</td>\n",
       "      <td>71</td>\n",
       "      <td>74</td>\n",
       "    </tr>\n",
       "    <tr>\n",
       "      <th>1</th>\n",
       "      <td>1</td>\n",
       "      <td>female</td>\n",
       "      <td>group C</td>\n",
       "      <td>some college</td>\n",
       "      <td>standard</td>\n",
       "      <td>NaN</td>\n",
       "      <td>married</td>\n",
       "      <td>sometimes</td>\n",
       "      <td>yes</td>\n",
       "      <td>0.0</td>\n",
       "      <td>NaN</td>\n",
       "      <td>5 - 10</td>\n",
       "      <td>69</td>\n",
       "      <td>90</td>\n",
       "      <td>88</td>\n",
       "    </tr>\n",
       "    <tr>\n",
       "      <th>2</th>\n",
       "      <td>2</td>\n",
       "      <td>female</td>\n",
       "      <td>group B</td>\n",
       "      <td>master's degree</td>\n",
       "      <td>standard</td>\n",
       "      <td>none</td>\n",
       "      <td>single</td>\n",
       "      <td>sometimes</td>\n",
       "      <td>yes</td>\n",
       "      <td>4.0</td>\n",
       "      <td>school_bus</td>\n",
       "      <td>&lt; 5</td>\n",
       "      <td>87</td>\n",
       "      <td>93</td>\n",
       "      <td>91</td>\n",
       "    </tr>\n",
       "    <tr>\n",
       "      <th>3</th>\n",
       "      <td>3</td>\n",
       "      <td>male</td>\n",
       "      <td>group A</td>\n",
       "      <td>associate's degree</td>\n",
       "      <td>free/reduced</td>\n",
       "      <td>none</td>\n",
       "      <td>married</td>\n",
       "      <td>never</td>\n",
       "      <td>no</td>\n",
       "      <td>1.0</td>\n",
       "      <td>NaN</td>\n",
       "      <td>5 - 10</td>\n",
       "      <td>45</td>\n",
       "      <td>56</td>\n",
       "      <td>42</td>\n",
       "    </tr>\n",
       "    <tr>\n",
       "      <th>4</th>\n",
       "      <td>4</td>\n",
       "      <td>male</td>\n",
       "      <td>group C</td>\n",
       "      <td>some college</td>\n",
       "      <td>standard</td>\n",
       "      <td>none</td>\n",
       "      <td>married</td>\n",
       "      <td>sometimes</td>\n",
       "      <td>yes</td>\n",
       "      <td>0.0</td>\n",
       "      <td>school_bus</td>\n",
       "      <td>5 - 10</td>\n",
       "      <td>76</td>\n",
       "      <td>78</td>\n",
       "      <td>75</td>\n",
       "    </tr>\n",
       "  </tbody>\n",
       "</table>\n",
       "</div>"
      ],
      "text/plain": [
       "   Unnamed: 0  Gender EthnicGroup          ParentEduc     LunchType TestPrep  \\\n",
       "0           0  female         NaN   bachelor's degree      standard     none   \n",
       "1           1  female     group C        some college      standard      NaN   \n",
       "2           2  female     group B     master's degree      standard     none   \n",
       "3           3    male     group A  associate's degree  free/reduced     none   \n",
       "4           4    male     group C        some college      standard     none   \n",
       "\n",
       "  ParentMaritalStatus PracticeSport IsFirstChild  NrSiblings TransportMeans  \\\n",
       "0             married     regularly          yes         3.0     school_bus   \n",
       "1             married     sometimes          yes         0.0            NaN   \n",
       "2              single     sometimes          yes         4.0     school_bus   \n",
       "3             married         never           no         1.0            NaN   \n",
       "4             married     sometimes          yes         0.0     school_bus   \n",
       "\n",
       "  WklyStudyHours  MathScore  ReadingScore  WritingScore  \n",
       "0            < 5         71            71            74  \n",
       "1         5 - 10         69            90            88  \n",
       "2            < 5         87            93            91  \n",
       "3         5 - 10         45            56            42  \n",
       "4         5 - 10         76            78            75  "
      ]
     },
     "execution_count": 55,
     "metadata": {},
     "output_type": "execute_result"
    }
   ],
   "source": [
    "#Show top 5 records\n",
    "df.head()"
   ]
  },
  {
   "cell_type": "code",
   "execution_count": 56,
   "id": "525c7716",
   "metadata": {},
   "outputs": [],
   "source": [
    "#drop Unnamed: 0 column.\n",
    "df.drop(columns = ['Unnamed: 0'], axis = 1, inplace = True)"
   ]
  },
  {
   "cell_type": "code",
   "execution_count": 57,
   "id": "ddce246c",
   "metadata": {},
   "outputs": [
    {
     "data": {
      "text/plain": [
       "(30641, 14)"
      ]
     },
     "execution_count": 57,
     "metadata": {},
     "output_type": "execute_result"
    }
   ],
   "source": [
    "#shape of the dataset\n",
    "df.shape"
   ]
  },
  {
   "cell_type": "markdown",
   "id": "868bc5de",
   "metadata": {},
   "source": [
    "Dataset consist 30,641 rows and 14 columns."
   ]
  },
  {
   "cell_type": "markdown",
   "id": "3227202c",
   "metadata": {},
   "source": [
    "## 2.2 Dataset informations."
   ]
  },
  {
   "cell_type": "code",
   "execution_count": 58,
   "id": "85835774",
   "metadata": {},
   "outputs": [
    {
     "data": {
      "text/plain": [
       "Index(['Gender', 'EthnicGroup', 'ParentEduc', 'LunchType', 'TestPrep',\n",
       "       'ParentMaritalStatus', 'PracticeSport', 'IsFirstChild', 'NrSiblings',\n",
       "       'TransportMeans', 'WklyStudyHours', 'MathScore', 'ReadingScore',\n",
       "       'WritingScore'],\n",
       "      dtype='object')"
      ]
     },
     "execution_count": 58,
     "metadata": {},
     "output_type": "execute_result"
    }
   ],
   "source": [
    "#Show column names\n",
    "df.columns"
   ]
  },
  {
   "cell_type": "markdown",
   "id": "0de86472",
   "metadata": {},
   "source": [
    "Gender: Gender of the student (male/female)\n",
    "\n",
    "EthnicGroup: Ethnic group of the student (group A to E)\n",
    "\n",
    "ParentEduc: Parent(s) education background (from some_highschool to master's degree)\n",
    "\n",
    "LunchType: School lunch type (standard or free/reduced)\n",
    "\n",
    "TestPrep: Test preparation course followed (completed or none)\n",
    "\n",
    "ParentMaritalStatus: Parent(s) marital status (married/single/widowed/divorced)\n",
    "\n",
    "PracticeSport: How often the student parctice sport (never/sometimes/regularly))\n",
    "\n",
    "IsFirstChild: If the child is first child in the family or not (yes/no)\n",
    "\n",
    "NrSiblings: Number of siblings the student has (0 to 7)\n",
    "\n",
    "TransportMeans: Means of transport to school (schoolbus/private)\n",
    "\n",
    "WklyStudyHours: Weekly self-study hours(less that 5hrs; between 5 and 10hrs; more than 10hrs)\n",
    "\n",
    "MathScore: math test score(0-100)\n",
    "\n",
    "ReadingScore: reading test score(0-100)\n",
    "\n",
    "WritingScore: writing test score(0-100)"
   ]
  },
  {
   "cell_type": "markdown",
   "id": "bdf9f62c",
   "metadata": {},
   "source": [
    "# 3. Checking the data."
   ]
  },
  {
   "cell_type": "markdown",
   "id": "3b12c599",
   "metadata": {},
   "source": [
    "## 3.1 Checking the data types"
   ]
  },
  {
   "cell_type": "code",
   "execution_count": 59,
   "id": "47c8b58e",
   "metadata": {},
   "outputs": [
    {
     "data": {
      "text/plain": [
       "Gender                  object\n",
       "EthnicGroup             object\n",
       "ParentEduc              object\n",
       "LunchType               object\n",
       "TestPrep                object\n",
       "ParentMaritalStatus     object\n",
       "PracticeSport           object\n",
       "IsFirstChild            object\n",
       "NrSiblings             float64\n",
       "TransportMeans          object\n",
       "WklyStudyHours          object\n",
       "MathScore                int64\n",
       "ReadingScore             int64\n",
       "WritingScore             int64\n",
       "dtype: object"
      ]
     },
     "execution_count": 59,
     "metadata": {},
     "output_type": "execute_result"
    }
   ],
   "source": [
    "df.dtypes"
   ]
  },
  {
   "cell_type": "code",
   "execution_count": 60,
   "id": "4a5d8474",
   "metadata": {},
   "outputs": [
    {
     "name": "stdout",
     "output_type": "stream",
     "text": [
      "All features : ['Gender', 'EthnicGroup', 'ParentEduc', 'LunchType', 'TestPrep', 'ParentMaritalStatus', 'PracticeSport', 'IsFirstChild', 'NrSiblings', 'TransportMeans', 'WklyStudyHours', 'MathScore', 'ReadingScore', 'WritingScore']\n",
      "\n",
      " Object features : ['Gender', 'PracticeSport', 'WklyStudyHours', 'LunchType', 'ParentEduc', 'ParentMaritalStatus', 'TestPrep', 'EthnicGroup', 'TransportMeans', 'IsFirstChild']\n",
      "\n",
      " Numerical features : ['NrSiblings', 'MathScore', 'ReadingScore', 'WritingScore']\n"
     ]
    }
   ],
   "source": [
    "all_col = list(df.columns)\n",
    "num_col =list(df._get_numeric_data())\n",
    "cat_col = list(set(all_col) - set(num_col))\n",
    "\n",
    "print(\"All features :\", all_col)\n",
    "print(\"\\n Object features :\", cat_col)\n",
    "print(\"\\n Numerical features :\", num_col)"
   ]
  },
  {
   "cell_type": "markdown",
   "id": "b1c6d135",
   "metadata": {},
   "source": [
    "## 3.2 Checking for duplicate values."
   ]
  },
  {
   "cell_type": "code",
   "execution_count": 61,
   "id": "887c765c",
   "metadata": {},
   "outputs": [
    {
     "data": {
      "text/plain": [
       "0"
      ]
     },
     "execution_count": 61,
     "metadata": {},
     "output_type": "execute_result"
    }
   ],
   "source": [
    "df.duplicated().sum()"
   ]
  },
  {
   "cell_type": "markdown",
   "id": "4b07565d",
   "metadata": {},
   "source": [
    "There are no duplicate values in that dataset."
   ]
  },
  {
   "cell_type": "markdown",
   "id": "28e632ac",
   "metadata": {},
   "source": [
    "## 3.3 Checking for missing values."
   ]
  },
  {
   "cell_type": "code",
   "execution_count": 62,
   "id": "f2475f52",
   "metadata": {},
   "outputs": [
    {
     "data": {
      "text/plain": [
       "Gender                    0\n",
       "EthnicGroup            1840\n",
       "ParentEduc             1845\n",
       "LunchType                 0\n",
       "TestPrep               1830\n",
       "ParentMaritalStatus    1190\n",
       "PracticeSport           631\n",
       "IsFirstChild            904\n",
       "NrSiblings             1572\n",
       "TransportMeans         3134\n",
       "WklyStudyHours          955\n",
       "MathScore                 0\n",
       "ReadingScore              0\n",
       "WritingScore              0\n",
       "dtype: int64"
      ]
     },
     "execution_count": 62,
     "metadata": {},
     "output_type": "execute_result"
    }
   ],
   "source": [
    "df.isna().sum()"
   ]
  },
  {
   "cell_type": "code",
   "execution_count": 63,
   "id": "c33ad52b",
   "metadata": {},
   "outputs": [
    {
     "name": "stdout",
     "output_type": "stream",
     "text": [
      "Before drop all columns which have missing values, We have  30641 rows. \n",
      "If drop all columns which have missing values, We have  19243 rows. \n",
      "If drop all columns which have missing values, We lose  11398 rows. \n",
      "It is a  37.19852485232205  % of the given dataset. \n"
     ]
    }
   ],
   "source": [
    "print(\"Before drop all columns which have missing values, We have \", df.shape[0], \"rows. \")\n",
    "print(\"If drop all columns which have missing values, We have \", df.dropna().shape[0], \"rows. \")\n",
    "print(\"If drop all columns which have missing values, We lose \", (df.shape[0] - df.dropna().shape[0]), \"rows. \")\n",
    "print(\"It is a \", ((df.shape[0] - df.dropna().shape[0])/ df.shape[0]) *100 , \" % of the given dataset. \")"
   ]
  },
  {
   "cell_type": "code",
   "execution_count": 64,
   "id": "84fa8688",
   "metadata": {},
   "outputs": [
    {
     "data": {
      "text/html": [
       "<div>\n",
       "<style scoped>\n",
       "    .dataframe tbody tr th:only-of-type {\n",
       "        vertical-align: middle;\n",
       "    }\n",
       "\n",
       "    .dataframe tbody tr th {\n",
       "        vertical-align: top;\n",
       "    }\n",
       "\n",
       "    .dataframe thead th {\n",
       "        text-align: right;\n",
       "    }\n",
       "</style>\n",
       "<table border=\"1\" class=\"dataframe\">\n",
       "  <thead>\n",
       "    <tr style=\"text-align: right;\">\n",
       "      <th></th>\n",
       "      <th>Gender</th>\n",
       "      <th>EthnicGroup</th>\n",
       "      <th>ParentEduc</th>\n",
       "      <th>LunchType</th>\n",
       "      <th>TestPrep</th>\n",
       "      <th>ParentMaritalStatus</th>\n",
       "      <th>PracticeSport</th>\n",
       "      <th>IsFirstChild</th>\n",
       "      <th>NrSiblings</th>\n",
       "      <th>TransportMeans</th>\n",
       "      <th>WklyStudyHours</th>\n",
       "      <th>MathScore</th>\n",
       "      <th>ReadingScore</th>\n",
       "      <th>WritingScore</th>\n",
       "    </tr>\n",
       "  </thead>\n",
       "  <tbody>\n",
       "    <tr>\n",
       "      <th>0</th>\n",
       "      <td>female</td>\n",
       "      <td>NaN</td>\n",
       "      <td>bachelor's degree</td>\n",
       "      <td>standard</td>\n",
       "      <td>none</td>\n",
       "      <td>married</td>\n",
       "      <td>regularly</td>\n",
       "      <td>yes</td>\n",
       "      <td>3.0</td>\n",
       "      <td>school_bus</td>\n",
       "      <td>&lt; 5</td>\n",
       "      <td>71</td>\n",
       "      <td>71</td>\n",
       "      <td>74</td>\n",
       "    </tr>\n",
       "    <tr>\n",
       "      <th>1</th>\n",
       "      <td>female</td>\n",
       "      <td>group C</td>\n",
       "      <td>some college</td>\n",
       "      <td>standard</td>\n",
       "      <td>NaN</td>\n",
       "      <td>married</td>\n",
       "      <td>sometimes</td>\n",
       "      <td>yes</td>\n",
       "      <td>0.0</td>\n",
       "      <td>NaN</td>\n",
       "      <td>5 - 10</td>\n",
       "      <td>69</td>\n",
       "      <td>90</td>\n",
       "      <td>88</td>\n",
       "    </tr>\n",
       "    <tr>\n",
       "      <th>3</th>\n",
       "      <td>male</td>\n",
       "      <td>group A</td>\n",
       "      <td>associate's degree</td>\n",
       "      <td>free/reduced</td>\n",
       "      <td>none</td>\n",
       "      <td>married</td>\n",
       "      <td>never</td>\n",
       "      <td>no</td>\n",
       "      <td>1.0</td>\n",
       "      <td>NaN</td>\n",
       "      <td>5 - 10</td>\n",
       "      <td>45</td>\n",
       "      <td>56</td>\n",
       "      <td>42</td>\n",
       "    </tr>\n",
       "    <tr>\n",
       "      <th>9</th>\n",
       "      <td>female</td>\n",
       "      <td>group B</td>\n",
       "      <td>high school</td>\n",
       "      <td>free/reduced</td>\n",
       "      <td>none</td>\n",
       "      <td>married</td>\n",
       "      <td>regularly</td>\n",
       "      <td>yes</td>\n",
       "      <td>NaN</td>\n",
       "      <td>private</td>\n",
       "      <td>&lt; 5</td>\n",
       "      <td>37</td>\n",
       "      <td>59</td>\n",
       "      <td>50</td>\n",
       "    </tr>\n",
       "    <tr>\n",
       "      <th>10</th>\n",
       "      <td>male</td>\n",
       "      <td>group C</td>\n",
       "      <td>associate's degree</td>\n",
       "      <td>standard</td>\n",
       "      <td>none</td>\n",
       "      <td>NaN</td>\n",
       "      <td>sometimes</td>\n",
       "      <td>yes</td>\n",
       "      <td>1.0</td>\n",
       "      <td>private</td>\n",
       "      <td>5 - 10</td>\n",
       "      <td>58</td>\n",
       "      <td>54</td>\n",
       "      <td>52</td>\n",
       "    </tr>\n",
       "    <tr>\n",
       "      <th>...</th>\n",
       "      <td>...</td>\n",
       "      <td>...</td>\n",
       "      <td>...</td>\n",
       "      <td>...</td>\n",
       "      <td>...</td>\n",
       "      <td>...</td>\n",
       "      <td>...</td>\n",
       "      <td>...</td>\n",
       "      <td>...</td>\n",
       "      <td>...</td>\n",
       "      <td>...</td>\n",
       "      <td>...</td>\n",
       "      <td>...</td>\n",
       "      <td>...</td>\n",
       "    </tr>\n",
       "    <tr>\n",
       "      <th>30627</th>\n",
       "      <td>female</td>\n",
       "      <td>group A</td>\n",
       "      <td>high school</td>\n",
       "      <td>standard</td>\n",
       "      <td>completed</td>\n",
       "      <td>married</td>\n",
       "      <td>never</td>\n",
       "      <td>no</td>\n",
       "      <td>NaN</td>\n",
       "      <td>school_bus</td>\n",
       "      <td>&gt; 10</td>\n",
       "      <td>58</td>\n",
       "      <td>77</td>\n",
       "      <td>82</td>\n",
       "    </tr>\n",
       "    <tr>\n",
       "      <th>30628</th>\n",
       "      <td>female</td>\n",
       "      <td>group B</td>\n",
       "      <td>NaN</td>\n",
       "      <td>free/reduced</td>\n",
       "      <td>none</td>\n",
       "      <td>single</td>\n",
       "      <td>sometimes</td>\n",
       "      <td>no</td>\n",
       "      <td>1.0</td>\n",
       "      <td>school_bus</td>\n",
       "      <td>5 - 10</td>\n",
       "      <td>55</td>\n",
       "      <td>63</td>\n",
       "      <td>63</td>\n",
       "    </tr>\n",
       "    <tr>\n",
       "      <th>30629</th>\n",
       "      <td>female</td>\n",
       "      <td>group D</td>\n",
       "      <td>associate's degree</td>\n",
       "      <td>standard</td>\n",
       "      <td>completed</td>\n",
       "      <td>married</td>\n",
       "      <td>sometimes</td>\n",
       "      <td>no</td>\n",
       "      <td>2.0</td>\n",
       "      <td>school_bus</td>\n",
       "      <td>NaN</td>\n",
       "      <td>67</td>\n",
       "      <td>63</td>\n",
       "      <td>72</td>\n",
       "    </tr>\n",
       "    <tr>\n",
       "      <th>30634</th>\n",
       "      <td>male</td>\n",
       "      <td>group A</td>\n",
       "      <td>associate's degree</td>\n",
       "      <td>free/reduced</td>\n",
       "      <td>completed</td>\n",
       "      <td>NaN</td>\n",
       "      <td>sometimes</td>\n",
       "      <td>no</td>\n",
       "      <td>2.0</td>\n",
       "      <td>school_bus</td>\n",
       "      <td>5 - 10</td>\n",
       "      <td>65</td>\n",
       "      <td>60</td>\n",
       "      <td>60</td>\n",
       "    </tr>\n",
       "    <tr>\n",
       "      <th>30638</th>\n",
       "      <td>female</td>\n",
       "      <td>NaN</td>\n",
       "      <td>high school</td>\n",
       "      <td>free/reduced</td>\n",
       "      <td>completed</td>\n",
       "      <td>married</td>\n",
       "      <td>sometimes</td>\n",
       "      <td>no</td>\n",
       "      <td>1.0</td>\n",
       "      <td>private</td>\n",
       "      <td>5 - 10</td>\n",
       "      <td>61</td>\n",
       "      <td>70</td>\n",
       "      <td>67</td>\n",
       "    </tr>\n",
       "  </tbody>\n",
       "</table>\n",
       "<p>11398 rows × 14 columns</p>\n",
       "</div>"
      ],
      "text/plain": [
       "       Gender EthnicGroup          ParentEduc     LunchType   TestPrep  \\\n",
       "0      female         NaN   bachelor's degree      standard       none   \n",
       "1      female     group C        some college      standard        NaN   \n",
       "3        male     group A  associate's degree  free/reduced       none   \n",
       "9      female     group B         high school  free/reduced       none   \n",
       "10       male     group C  associate's degree      standard       none   \n",
       "...       ...         ...                 ...           ...        ...   \n",
       "30627  female     group A         high school      standard  completed   \n",
       "30628  female     group B                 NaN  free/reduced       none   \n",
       "30629  female     group D  associate's degree      standard  completed   \n",
       "30634    male     group A  associate's degree  free/reduced  completed   \n",
       "30638  female         NaN         high school  free/reduced  completed   \n",
       "\n",
       "      ParentMaritalStatus PracticeSport IsFirstChild  NrSiblings  \\\n",
       "0                 married     regularly          yes         3.0   \n",
       "1                 married     sometimes          yes         0.0   \n",
       "3                 married         never           no         1.0   \n",
       "9                 married     regularly          yes         NaN   \n",
       "10                    NaN     sometimes          yes         1.0   \n",
       "...                   ...           ...          ...         ...   \n",
       "30627             married         never           no         NaN   \n",
       "30628              single     sometimes           no         1.0   \n",
       "30629             married     sometimes           no         2.0   \n",
       "30634                 NaN     sometimes           no         2.0   \n",
       "30638             married     sometimes           no         1.0   \n",
       "\n",
       "      TransportMeans WklyStudyHours  MathScore  ReadingScore  WritingScore  \n",
       "0         school_bus            < 5         71            71            74  \n",
       "1                NaN         5 - 10         69            90            88  \n",
       "3                NaN         5 - 10         45            56            42  \n",
       "9            private            < 5         37            59            50  \n",
       "10           private         5 - 10         58            54            52  \n",
       "...              ...            ...        ...           ...           ...  \n",
       "30627     school_bus           > 10         58            77            82  \n",
       "30628     school_bus         5 - 10         55            63            63  \n",
       "30629     school_bus            NaN         67            63            72  \n",
       "30634     school_bus         5 - 10         65            60            60  \n",
       "30638        private         5 - 10         61            70            67  \n",
       "\n",
       "[11398 rows x 14 columns]"
      ]
     },
     "execution_count": 64,
     "metadata": {},
     "output_type": "execute_result"
    }
   ],
   "source": [
    "df[df.isnull().any(axis = 1)]"
   ]
  },
  {
   "cell_type": "code",
   "execution_count": 65,
   "id": "f89cc6c4",
   "metadata": {},
   "outputs": [
    {
     "data": {
      "text/html": [
       "<style>#sk-container-id-2 {color: black;background-color: white;}#sk-container-id-2 pre{padding: 0;}#sk-container-id-2 div.sk-toggleable {background-color: white;}#sk-container-id-2 label.sk-toggleable__label {cursor: pointer;display: block;width: 100%;margin-bottom: 0;padding: 0.3em;box-sizing: border-box;text-align: center;}#sk-container-id-2 label.sk-toggleable__label-arrow:before {content: \"▸\";float: left;margin-right: 0.25em;color: #696969;}#sk-container-id-2 label.sk-toggleable__label-arrow:hover:before {color: black;}#sk-container-id-2 div.sk-estimator:hover label.sk-toggleable__label-arrow:before {color: black;}#sk-container-id-2 div.sk-toggleable__content {max-height: 0;max-width: 0;overflow: hidden;text-align: left;background-color: #f0f8ff;}#sk-container-id-2 div.sk-toggleable__content pre {margin: 0.2em;color: black;border-radius: 0.25em;background-color: #f0f8ff;}#sk-container-id-2 input.sk-toggleable__control:checked~div.sk-toggleable__content {max-height: 200px;max-width: 100%;overflow: auto;}#sk-container-id-2 input.sk-toggleable__control:checked~label.sk-toggleable__label-arrow:before {content: \"▾\";}#sk-container-id-2 div.sk-estimator input.sk-toggleable__control:checked~label.sk-toggleable__label {background-color: #d4ebff;}#sk-container-id-2 div.sk-label input.sk-toggleable__control:checked~label.sk-toggleable__label {background-color: #d4ebff;}#sk-container-id-2 input.sk-hidden--visually {border: 0;clip: rect(1px 1px 1px 1px);clip: rect(1px, 1px, 1px, 1px);height: 1px;margin: -1px;overflow: hidden;padding: 0;position: absolute;width: 1px;}#sk-container-id-2 div.sk-estimator {font-family: monospace;background-color: #f0f8ff;border: 1px dotted black;border-radius: 0.25em;box-sizing: border-box;margin-bottom: 0.5em;}#sk-container-id-2 div.sk-estimator:hover {background-color: #d4ebff;}#sk-container-id-2 div.sk-parallel-item::after {content: \"\";width: 100%;border-bottom: 1px solid gray;flex-grow: 1;}#sk-container-id-2 div.sk-label:hover label.sk-toggleable__label {background-color: #d4ebff;}#sk-container-id-2 div.sk-serial::before {content: \"\";position: absolute;border-left: 1px solid gray;box-sizing: border-box;top: 0;bottom: 0;left: 50%;z-index: 0;}#sk-container-id-2 div.sk-serial {display: flex;flex-direction: column;align-items: center;background-color: white;padding-right: 0.2em;padding-left: 0.2em;position: relative;}#sk-container-id-2 div.sk-item {position: relative;z-index: 1;}#sk-container-id-2 div.sk-parallel {display: flex;align-items: stretch;justify-content: center;background-color: white;position: relative;}#sk-container-id-2 div.sk-item::before, #sk-container-id-2 div.sk-parallel-item::before {content: \"\";position: absolute;border-left: 1px solid gray;box-sizing: border-box;top: 0;bottom: 0;left: 50%;z-index: -1;}#sk-container-id-2 div.sk-parallel-item {display: flex;flex-direction: column;z-index: 1;position: relative;background-color: white;}#sk-container-id-2 div.sk-parallel-item:first-child::after {align-self: flex-end;width: 50%;}#sk-container-id-2 div.sk-parallel-item:last-child::after {align-self: flex-start;width: 50%;}#sk-container-id-2 div.sk-parallel-item:only-child::after {width: 0;}#sk-container-id-2 div.sk-dashed-wrapped {border: 1px dashed gray;margin: 0 0.4em 0.5em 0.4em;box-sizing: border-box;padding-bottom: 0.4em;background-color: white;}#sk-container-id-2 div.sk-label label {font-family: monospace;font-weight: bold;display: inline-block;line-height: 1.2em;}#sk-container-id-2 div.sk-label-container {text-align: center;}#sk-container-id-2 div.sk-container {/* jupyter's `normalize.less` sets `[hidden] { display: none; }` but bootstrap.min.css set `[hidden] { display: none !important; }` so we also need the `!important` here to be able to override the default hidden behavior on the sphinx rendered scikit-learn.org. See: https://github.com/scikit-learn/scikit-learn/issues/21755 */display: inline-block !important;position: relative;}#sk-container-id-2 div.sk-text-repr-fallback {display: none;}</style><div id=\"sk-container-id-2\" class=\"sk-top-container\"><div class=\"sk-text-repr-fallback\"><pre>KNNImputer(n_neighbors=2)</pre><b>In a Jupyter environment, please rerun this cell to show the HTML representation or trust the notebook. <br />On GitHub, the HTML representation is unable to render, please try loading this page with nbviewer.org.</b></div><div class=\"sk-container\" hidden><div class=\"sk-item\"><div class=\"sk-estimator sk-toggleable\"><input class=\"sk-toggleable__control sk-hidden--visually\" id=\"sk-estimator-id-2\" type=\"checkbox\" checked><label for=\"sk-estimator-id-2\" class=\"sk-toggleable__label sk-toggleable__label-arrow\">KNNImputer</label><div class=\"sk-toggleable__content\"><pre>KNNImputer(n_neighbors=2)</pre></div></div></div></div></div>"
      ],
      "text/plain": [
       "KNNImputer(n_neighbors=2)"
      ]
     },
     "execution_count": 65,
     "metadata": {},
     "output_type": "execute_result"
    }
   ],
   "source": [
    "knni = KNNImputer(n_neighbors = 2, weights = \"uniform\")\n",
    "knni.fit(df[num_col])"
   ]
  },
  {
   "cell_type": "code",
   "execution_count": 66,
   "id": "586aa864",
   "metadata": {},
   "outputs": [],
   "source": [
    "temp = knni.transform(df[num_col])\n",
    "temp1 = pd.DataFrame(data = temp, columns = num_col)"
   ]
  },
  {
   "cell_type": "code",
   "execution_count": 67,
   "id": "3b7e2628",
   "metadata": {},
   "outputs": [],
   "source": [
    "df.drop(columns = num_col, axis = 1, inplace = True)\n",
    "df = pd.concat([df, temp1], axis = 1)"
   ]
  },
  {
   "cell_type": "code",
   "execution_count": 68,
   "id": "ea24ea45",
   "metadata": {},
   "outputs": [
    {
     "data": {
      "text/plain": [
       "NrSiblings      0\n",
       "MathScore       0\n",
       "ReadingScore    0\n",
       "WritingScore    0\n",
       "dtype: int64"
      ]
     },
     "execution_count": 68,
     "metadata": {},
     "output_type": "execute_result"
    }
   ],
   "source": [
    "df[num_col].isnull().sum()"
   ]
  },
  {
   "cell_type": "code",
   "execution_count": 70,
   "id": "38952713",
   "metadata": {},
   "outputs": [],
   "source": [
    "for i in cat_col:\n",
    "    df[i].fillna(df[i].mode()[0], inplace = True)"
   ]
  },
  {
   "cell_type": "code",
   "execution_count": 71,
   "id": "940d937c",
   "metadata": {},
   "outputs": [
    {
     "data": {
      "text/plain": [
       "Gender                 0\n",
       "EthnicGroup            0\n",
       "ParentEduc             0\n",
       "LunchType              0\n",
       "TestPrep               0\n",
       "ParentMaritalStatus    0\n",
       "PracticeSport          0\n",
       "IsFirstChild           0\n",
       "TransportMeans         0\n",
       "WklyStudyHours         0\n",
       "NrSiblings             0\n",
       "MathScore              0\n",
       "ReadingScore           0\n",
       "WritingScore           0\n",
       "dtype: int64"
      ]
     },
     "execution_count": 71,
     "metadata": {},
     "output_type": "execute_result"
    }
   ],
   "source": [
    "df.isnull().sum()"
   ]
  },
  {
   "cell_type": "code",
   "execution_count": 73,
   "id": "e351db0e",
   "metadata": {},
   "outputs": [
    {
     "name": "stdout",
     "output_type": "stream",
     "text": [
      "<class 'pandas.core.frame.DataFrame'>\n",
      "RangeIndex: 30641 entries, 0 to 30640\n",
      "Data columns (total 14 columns):\n",
      " #   Column               Non-Null Count  Dtype  \n",
      "---  ------               --------------  -----  \n",
      " 0   Gender               30641 non-null  object \n",
      " 1   EthnicGroup          30641 non-null  object \n",
      " 2   ParentEduc           30641 non-null  object \n",
      " 3   LunchType            30641 non-null  object \n",
      " 4   TestPrep             30641 non-null  object \n",
      " 5   ParentMaritalStatus  30641 non-null  object \n",
      " 6   PracticeSport        30641 non-null  object \n",
      " 7   IsFirstChild         30641 non-null  object \n",
      " 8   TransportMeans       30641 non-null  object \n",
      " 9   WklyStudyHours       30641 non-null  object \n",
      " 10  NrSiblings           30641 non-null  float64\n",
      " 11  MathScore            30641 non-null  float64\n",
      " 12  ReadingScore         30641 non-null  float64\n",
      " 13  WritingScore         30641 non-null  float64\n",
      "dtypes: float64(4), object(10)\n",
      "memory usage: 3.3+ MB\n"
     ]
    }
   ],
   "source": [
    "#check null and data types\n",
    "df.info()"
   ]
  },
  {
   "cell_type": "markdown",
   "id": "109bead7",
   "metadata": {},
   "source": [
    "## 3.4 Checking the unique values at each column."
   ]
  },
  {
   "cell_type": "code",
   "execution_count": 75,
   "id": "02d22688",
   "metadata": {},
   "outputs": [
    {
     "data": {
      "text/plain": [
       "Gender                  2\n",
       "EthnicGroup             5\n",
       "ParentEduc              6\n",
       "LunchType               2\n",
       "TestPrep                2\n",
       "ParentMaritalStatus     4\n",
       "PracticeSport           3\n",
       "IsFirstChild            2\n",
       "TransportMeans          2\n",
       "WklyStudyHours          3\n",
       "NrSiblings             14\n",
       "MathScore              95\n",
       "ReadingScore           90\n",
       "WritingScore           93\n",
       "dtype: int64"
      ]
     },
     "execution_count": 75,
     "metadata": {},
     "output_type": "execute_result"
    }
   ],
   "source": [
    "df.nunique()"
   ]
  },
  {
   "cell_type": "code",
   "execution_count": 79,
   "id": "e6db0ddc",
   "metadata": {
    "scrolled": true
   },
   "outputs": [
    {
     "name": "stdout",
     "output_type": "stream",
     "text": [
      "Gender column :\n",
      "['female' 'male']\n",
      "\n",
      "EthnicGroup column :\n",
      "['group C' 'group B' 'group A' 'group D' 'group E']\n",
      "\n",
      "ParentEduc column :\n",
      "[\"bachelor's degree\" 'some college' \"master's degree\" \"associate's degree\"\n",
      " 'high school' 'some high school']\n",
      "\n",
      "LunchType column :\n",
      "['standard' 'free/reduced']\n",
      "\n",
      "TestPrep column :\n",
      "['none' 'completed']\n",
      "\n",
      "ParentMaritalStatus column :\n",
      "['married' 'single' 'widowed' 'divorced']\n",
      "\n",
      "PracticeSport column :\n",
      "['regularly' 'sometimes' 'never']\n",
      "\n",
      "IsFirstChild column :\n",
      "['yes' 'no']\n",
      "\n",
      "NrSiblings column :\n",
      "[3.  0.  4.  1.  2.  5.  3.5 1.5 0.5 7.  6.  2.5 4.5 5.5]\n",
      "\n",
      "TransportMeans column :\n",
      "['school_bus' 'private']\n",
      "\n",
      "WklyStudyHours column :\n",
      "['< 5' '5 - 10' '> 10']\n",
      "\n",
      "MathScore column :\n",
      "[ 71.  69.  87.  45.  76.  73.  85.  41.  65.  37.  58.  40.  66.  80.\n",
      "  48.  88.  18.  46.  50.  42.  74.  75.  70.  63.  56.  97.  81.  51.\n",
      "  77.  53.  59.  60.  67.  82.  54.  33.  84.  52.  61.   0.  39.  62.\n",
      "  64.  47.  44.  28.  49.  57.  27.  68.  79. 100.  72.  98.  55.  90.\n",
      "  86.  89.  21.  96.  91.  99.  83.  35.  43.  93.  78.  94.  36.  29.\n",
      "  23.  92.  26.  38.  95.  30.  32.   8.  34.  31.  25.  22.  17.  20.\n",
      "  16.  19.  24.  15.  11.  12.  13.   9.  10.   7.  14.]\n",
      "\n",
      "ReadingScore column :\n",
      "[ 71.  90.  93.  56.  78.  84.  43.  64.  59.  54.  52.  82.  73.  53.\n",
      "  75.  89.  32.  42.  69.  76.  70.  72.  65.  87.  81.  91.  60.  74.\n",
      "  55.  68.  45.  86.  41.  17.  39.  61.  58.  62.  37.  51.  48.  25.\n",
      "  79.  50.  47.  38.  80.  34.  77.  46.  66.  67.  92.  44.  88. 100.\n",
      "  63.  99.  83.  94.  57.  49.  36.  85.  40.  28.  97.  23.  33.  98.\n",
      "  95.  31.  24.  29.  96.  35.  26.  21.  30.  18.  15.  11.  20.  19.\n",
      "  16.  22.  27.  12.  10.  14.]\n",
      "\n",
      "WritingScore column :\n",
      "[ 74.  88.  91.  42.  75.  79.  89.  39.  68.  50.  52.  43.  71.  58.\n",
      "  78.  86.  28.  47.  63.  70.  51.  80.  76.  53.  65.  72.  61.  66.\n",
      "  38.  82.  85.  60.  90.  69.  67.  55.  77.  48.  87.  49.  10.  34.\n",
      "  59.  37.  57.  64.  54.  40.  21.  83.  73.  45.  33.  36.  94.  62.\n",
      " 100.  99.  95.  56.  41.  27.  81.  98.  46.  44.  19.  26.  31.  84.\n",
      "  97.  93.  96.  92.  15.  30.  32.  23.  35.  29.  17.  25.  24.  20.\n",
      "   6.  22.  14.  18.  16.  12.   9.  13.   4.]\n",
      "\n"
     ]
    }
   ],
   "source": [
    "for i in all_col:\n",
    "    print(i ,'column :')\n",
    "    print(df[i].unique())\n",
    "    print()"
   ]
  },
  {
   "cell_type": "markdown",
   "id": "e7434c25",
   "metadata": {},
   "source": [
    "## 3.5 Check the statics of the dataset"
   ]
  },
  {
   "cell_type": "code",
   "execution_count": 80,
   "id": "e4f0e7d7",
   "metadata": {},
   "outputs": [
    {
     "data": {
      "text/html": [
       "<div>\n",
       "<style scoped>\n",
       "    .dataframe tbody tr th:only-of-type {\n",
       "        vertical-align: middle;\n",
       "    }\n",
       "\n",
       "    .dataframe tbody tr th {\n",
       "        vertical-align: top;\n",
       "    }\n",
       "\n",
       "    .dataframe thead th {\n",
       "        text-align: right;\n",
       "    }\n",
       "</style>\n",
       "<table border=\"1\" class=\"dataframe\">\n",
       "  <thead>\n",
       "    <tr style=\"text-align: right;\">\n",
       "      <th></th>\n",
       "      <th>NrSiblings</th>\n",
       "      <th>MathScore</th>\n",
       "      <th>ReadingScore</th>\n",
       "      <th>WritingScore</th>\n",
       "    </tr>\n",
       "  </thead>\n",
       "  <tbody>\n",
       "    <tr>\n",
       "      <th>count</th>\n",
       "      <td>30641.000000</td>\n",
       "      <td>30641.000000</td>\n",
       "      <td>30641.000000</td>\n",
       "      <td>30641.000000</td>\n",
       "    </tr>\n",
       "    <tr>\n",
       "      <th>mean</th>\n",
       "      <td>2.143321</td>\n",
       "      <td>66.558402</td>\n",
       "      <td>69.377533</td>\n",
       "      <td>68.418622</td>\n",
       "    </tr>\n",
       "    <tr>\n",
       "      <th>std</th>\n",
       "      <td>1.439867</td>\n",
       "      <td>15.361616</td>\n",
       "      <td>14.758952</td>\n",
       "      <td>15.443525</td>\n",
       "    </tr>\n",
       "    <tr>\n",
       "      <th>min</th>\n",
       "      <td>0.000000</td>\n",
       "      <td>0.000000</td>\n",
       "      <td>10.000000</td>\n",
       "      <td>4.000000</td>\n",
       "    </tr>\n",
       "    <tr>\n",
       "      <th>25%</th>\n",
       "      <td>1.000000</td>\n",
       "      <td>56.000000</td>\n",
       "      <td>59.000000</td>\n",
       "      <td>58.000000</td>\n",
       "    </tr>\n",
       "    <tr>\n",
       "      <th>50%</th>\n",
       "      <td>2.000000</td>\n",
       "      <td>67.000000</td>\n",
       "      <td>70.000000</td>\n",
       "      <td>69.000000</td>\n",
       "    </tr>\n",
       "    <tr>\n",
       "      <th>75%</th>\n",
       "      <td>3.000000</td>\n",
       "      <td>78.000000</td>\n",
       "      <td>80.000000</td>\n",
       "      <td>79.000000</td>\n",
       "    </tr>\n",
       "    <tr>\n",
       "      <th>max</th>\n",
       "      <td>7.000000</td>\n",
       "      <td>100.000000</td>\n",
       "      <td>100.000000</td>\n",
       "      <td>100.000000</td>\n",
       "    </tr>\n",
       "  </tbody>\n",
       "</table>\n",
       "</div>"
      ],
      "text/plain": [
       "         NrSiblings     MathScore  ReadingScore  WritingScore\n",
       "count  30641.000000  30641.000000  30641.000000  30641.000000\n",
       "mean       2.143321     66.558402     69.377533     68.418622\n",
       "std        1.439867     15.361616     14.758952     15.443525\n",
       "min        0.000000      0.000000     10.000000      4.000000\n",
       "25%        1.000000     56.000000     59.000000     58.000000\n",
       "50%        2.000000     67.000000     70.000000     69.000000\n",
       "75%        3.000000     78.000000     80.000000     79.000000\n",
       "max        7.000000    100.000000    100.000000    100.000000"
      ]
     },
     "execution_count": 80,
     "metadata": {},
     "output_type": "execute_result"
    }
   ],
   "source": [
    "df.describe()"
   ]
  },
  {
   "cell_type": "markdown",
   "id": "a0e07a25",
   "metadata": {},
   "source": [
    "## 3.6 Add avarage column"
   ]
  },
  {
   "cell_type": "code",
   "execution_count": 83,
   "id": "9d8f7813",
   "metadata": {},
   "outputs": [
    {
     "data": {
      "text/html": [
       "<div>\n",
       "<style scoped>\n",
       "    .dataframe tbody tr th:only-of-type {\n",
       "        vertical-align: middle;\n",
       "    }\n",
       "\n",
       "    .dataframe tbody tr th {\n",
       "        vertical-align: top;\n",
       "    }\n",
       "\n",
       "    .dataframe thead th {\n",
       "        text-align: right;\n",
       "    }\n",
       "</style>\n",
       "<table border=\"1\" class=\"dataframe\">\n",
       "  <thead>\n",
       "    <tr style=\"text-align: right;\">\n",
       "      <th></th>\n",
       "      <th>Gender</th>\n",
       "      <th>EthnicGroup</th>\n",
       "      <th>ParentEduc</th>\n",
       "      <th>LunchType</th>\n",
       "      <th>TestPrep</th>\n",
       "      <th>ParentMaritalStatus</th>\n",
       "      <th>PracticeSport</th>\n",
       "      <th>IsFirstChild</th>\n",
       "      <th>TransportMeans</th>\n",
       "      <th>WklyStudyHours</th>\n",
       "      <th>NrSiblings</th>\n",
       "      <th>MathScore</th>\n",
       "      <th>ReadingScore</th>\n",
       "      <th>WritingScore</th>\n",
       "      <th>Average</th>\n",
       "    </tr>\n",
       "  </thead>\n",
       "  <tbody>\n",
       "    <tr>\n",
       "      <th>0</th>\n",
       "      <td>female</td>\n",
       "      <td>group C</td>\n",
       "      <td>bachelor's degree</td>\n",
       "      <td>standard</td>\n",
       "      <td>none</td>\n",
       "      <td>married</td>\n",
       "      <td>regularly</td>\n",
       "      <td>yes</td>\n",
       "      <td>school_bus</td>\n",
       "      <td>&lt; 5</td>\n",
       "      <td>3.0</td>\n",
       "      <td>71.0</td>\n",
       "      <td>71.0</td>\n",
       "      <td>74.0</td>\n",
       "      <td>72.000000</td>\n",
       "    </tr>\n",
       "    <tr>\n",
       "      <th>1</th>\n",
       "      <td>female</td>\n",
       "      <td>group C</td>\n",
       "      <td>some college</td>\n",
       "      <td>standard</td>\n",
       "      <td>none</td>\n",
       "      <td>married</td>\n",
       "      <td>sometimes</td>\n",
       "      <td>yes</td>\n",
       "      <td>school_bus</td>\n",
       "      <td>5 - 10</td>\n",
       "      <td>0.0</td>\n",
       "      <td>69.0</td>\n",
       "      <td>90.0</td>\n",
       "      <td>88.0</td>\n",
       "      <td>82.333333</td>\n",
       "    </tr>\n",
       "    <tr>\n",
       "      <th>2</th>\n",
       "      <td>female</td>\n",
       "      <td>group B</td>\n",
       "      <td>master's degree</td>\n",
       "      <td>standard</td>\n",
       "      <td>none</td>\n",
       "      <td>single</td>\n",
       "      <td>sometimes</td>\n",
       "      <td>yes</td>\n",
       "      <td>school_bus</td>\n",
       "      <td>&lt; 5</td>\n",
       "      <td>4.0</td>\n",
       "      <td>87.0</td>\n",
       "      <td>93.0</td>\n",
       "      <td>91.0</td>\n",
       "      <td>90.333333</td>\n",
       "    </tr>\n",
       "    <tr>\n",
       "      <th>3</th>\n",
       "      <td>male</td>\n",
       "      <td>group A</td>\n",
       "      <td>associate's degree</td>\n",
       "      <td>free/reduced</td>\n",
       "      <td>none</td>\n",
       "      <td>married</td>\n",
       "      <td>never</td>\n",
       "      <td>no</td>\n",
       "      <td>school_bus</td>\n",
       "      <td>5 - 10</td>\n",
       "      <td>1.0</td>\n",
       "      <td>45.0</td>\n",
       "      <td>56.0</td>\n",
       "      <td>42.0</td>\n",
       "      <td>47.666667</td>\n",
       "    </tr>\n",
       "    <tr>\n",
       "      <th>4</th>\n",
       "      <td>male</td>\n",
       "      <td>group C</td>\n",
       "      <td>some college</td>\n",
       "      <td>standard</td>\n",
       "      <td>none</td>\n",
       "      <td>married</td>\n",
       "      <td>sometimes</td>\n",
       "      <td>yes</td>\n",
       "      <td>school_bus</td>\n",
       "      <td>5 - 10</td>\n",
       "      <td>0.0</td>\n",
       "      <td>76.0</td>\n",
       "      <td>78.0</td>\n",
       "      <td>75.0</td>\n",
       "      <td>76.333333</td>\n",
       "    </tr>\n",
       "  </tbody>\n",
       "</table>\n",
       "</div>"
      ],
      "text/plain": [
       "   Gender EthnicGroup          ParentEduc     LunchType TestPrep  \\\n",
       "0  female     group C   bachelor's degree      standard     none   \n",
       "1  female     group C        some college      standard     none   \n",
       "2  female     group B     master's degree      standard     none   \n",
       "3    male     group A  associate's degree  free/reduced     none   \n",
       "4    male     group C        some college      standard     none   \n",
       "\n",
       "  ParentMaritalStatus PracticeSport IsFirstChild TransportMeans  \\\n",
       "0             married     regularly          yes     school_bus   \n",
       "1             married     sometimes          yes     school_bus   \n",
       "2              single     sometimes          yes     school_bus   \n",
       "3             married         never           no     school_bus   \n",
       "4             married     sometimes          yes     school_bus   \n",
       "\n",
       "  WklyStudyHours  NrSiblings  MathScore  ReadingScore  WritingScore    Average  \n",
       "0            < 5         3.0       71.0          71.0          74.0  72.000000  \n",
       "1         5 - 10         0.0       69.0          90.0          88.0  82.333333  \n",
       "2            < 5         4.0       87.0          93.0          91.0  90.333333  \n",
       "3         5 - 10         1.0       45.0          56.0          42.0  47.666667  \n",
       "4         5 - 10         0.0       76.0          78.0          75.0  76.333333  "
      ]
     },
     "execution_count": 83,
     "metadata": {},
     "output_type": "execute_result"
    }
   ],
   "source": [
    "df['Average'] = ((df['MathScore'] + df['ReadingScore'] + df['WritingScore']) / 3)\n",
    "df.head()"
   ]
  },
  {
   "cell_type": "code",
   "execution_count": 94,
   "id": "6c514103",
   "metadata": {},
   "outputs": [
    {
     "name": "stdout",
     "output_type": "stream",
     "text": [
      "Number of students with full marks in maths : 275\n",
      "Number of students with full marks in writing : 484\n",
      "Number of students with full marks in reading : 344\n"
     ]
    }
   ],
   "source": [
    "print(\"Number of students with full marks in maths :\", df[df['MathScore'] == 100]['Average'].count())\n",
    "print(\"Number of students with full marks in writing :\",df[df['WritingScore'] == 100]['Average'].count())\n",
    "print(\"Number of students with full marks in reading :\",df[df['ReadingScore'] == 100]['Average'].count())"
   ]
  },
  {
   "cell_type": "code",
   "execution_count": 96,
   "id": "1a98d403",
   "metadata": {},
   "outputs": [
    {
     "name": "stdout",
     "output_type": "stream",
     "text": [
      "Number of students with minimum marks in maths : 1\n",
      "Number of students with full marks in writing : 0\n",
      "Number of students with full marks in reading : 0\n"
     ]
    }
   ],
   "source": [
    "print(\"Number of students with minimum marks in maths :\",df[df['MathScore'] == 0]['Average'].count())\n",
    "print(\"Number of students with full marks in writing :\", df[df['WritingScore'] == 0]['Average'].count())\n",
    "print(\"Number of students with full marks in reading :\",df[df['ReadingScore'] == 0]['Average'].count())"
   ]
  },
  {
   "cell_type": "code",
   "execution_count": null,
   "id": "ddfffd8a",
   "metadata": {},
   "outputs": [],
   "source": []
  }
 ],
 "metadata": {
  "kernelspec": {
   "display_name": "Python 3 (ipykernel)",
   "language": "python",
   "name": "python3"
  },
  "language_info": {
   "codemirror_mode": {
    "name": "ipython",
    "version": 3
   },
   "file_extension": ".py",
   "mimetype": "text/x-python",
   "name": "python",
   "nbconvert_exporter": "python",
   "pygments_lexer": "ipython3",
   "version": "3.10.9"
  }
 },
 "nbformat": 4,
 "nbformat_minor": 5
}
